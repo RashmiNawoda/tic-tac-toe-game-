{
 "cells": [
  {
   "cell_type": "markdown",
   "id": "5756b3b2",
   "metadata": {},
   "source": [
    "# Project_Name: Tic_Tac_Toe\n",
    "# Computer_Sciences.Group_3\n",
    "## Members' Name:\n",
    "\n",
    "1. Hiep Huynh\n",
    "2. Gayathri Sachinthana Wickramanayaka Karunarathna\n",
    "3. Nontathon Jaite\n",
    "4. Akshay Dilip Patil\n",
    "5. Rashmi Nawoda Maha Marakkalage\n"
   ]
  },
  {
   "cell_type": "markdown",
   "id": "64696c90",
   "metadata": {},
   "source": [
    "## Decription:\n",
    "\n",
    "###### It is a two-player game and consists of a nine-square grid. Each player chooses their move with O or X and marks their square one at each chance. The player who succeeds in making their marks all in one line whether diagonally, horizontally, or vertically wins. The challenge for the other player is to block the game for their opponent and also to make their chain. Try to create a basic game that can be played once at least and will display which player is the winner.\n",
    "\n",
    "## How to play the game?\n",
    "- There are two players and 2 signs (x and o)\n",
    "- There is a board with 9 boxes\n",
    "- First one user has to place his sign in one of the empty boxes\n",
    "- Then the other user places his sign on another empty box\n",
    "- The goal is to place their respective signs completely row-wise or column-wise or diagonally\n",
    "- The game goes on until one player wins the game or ends up in a draw by filling all the boxes without winning"
   ]
  },
  {
   "cell_type": "markdown",
   "id": "40b3f61d",
   "metadata": {},
   "source": [
    "### Draw a nine - Square grid\n",
    "- To start the game, we need to create a nine - square grid first.\n",
    "- Try to arrange the bars in straight line as diagonal, horizontal, and vertical lines"
   ]
  },
  {
   "cell_type": "code",
   "execution_count": 1,
   "id": "1b92b989",
   "metadata": {},
   "outputs": [],
   "source": [
    "# Make a nine-square grid\n",
    "def draw_board(board):\n",
    "    print('   |   |')\n",
    "    print(' ' + board[1] + ' | ' + board[2] + ' | ' + board[3])\n",
    "    print('-----------')\n",
    "    print('   |   |')\n",
    "    print(' ' + board[4] + ' | ' + board[5] + ' | ' + board[6])\n",
    "    print('-----------')\n",
    "    print('   |   |')\n",
    "    print(' ' + board[7] + ' | ' + board[8] + ' | ' + board[9])"
   ]
  },
  {
   "cell_type": "markdown",
   "id": "2e1e8382",
   "metadata": {},
   "source": [
    "### Check winner:\n",
    "- Create a dictionary of length 9 and each key will represent a block in the board and its corresponding value will represent the move made by a player"
   ]
  },
  {
   "cell_type": "code",
   "execution_count": 2,
   "id": "e9307751",
   "metadata": {},
   "outputs": [],
   "source": [
    "# conditions of winner\n",
    "def check_winner(board, letter): \n",
    "    if (board[7] == letter and board[8] == letter and board[9] == letter or \\\n",
    "        board[4] == letter and board[5] == letter and board[6] == letter or \\\n",
    "        board[1] == letter and board[2] == letter and board[3] == letter or \\\n",
    "        board[1] == letter and board[5] == letter and board[9] == letter or \\\n",
    "        board[7] == letter and board[5] == letter and board[3] == letter or \\\n",
    "        board[7] == letter and board[4] == letter and board[1] == letter or \\\n",
    "        board[8] == letter and board[5] == letter and board[2] == letter or \\\n",
    "        board[9] == letter and board[6] == letter and board[3] == letter):\n",
    "        \n",
    "        return True\n",
    "    else:\n",
    "        return False # the game will continues with other player"
   ]
  },
  {
   "cell_type": "markdown",
   "id": "f522167b",
   "metadata": {},
   "source": [
    "### The Main_Game:\n",
    "##### Must included:\n",
    "- Player has to choose a sign X, or O to start the game\n",
    "- Enter a number in range [1:9] to select a place in then board\n",
    "- Set the conditions which can identify who is winner or draw cases\n",
    "- show the nine-square grid in each situations"
   ]
  },
  {
   "cell_type": "code",
   "execution_count": 3,
   "id": "17d5c87b",
   "metadata": {},
   "outputs": [],
   "source": [
    "def main_game():\n",
    "    # set the inital choice of game\n",
    "    print('Welcome to the game Tic Tac Toe!')\n",
    "    board=[' ']*10\n",
    "    player1_letter = input('Player1, please choose x or o to start the game:').upper()\n",
    "    if player1_letter == 'X':\n",
    "        player2_letter = 'O'\n",
    "    else:\n",
    "        player2_letter = 'X'\n",
    "    \n",
    "    print('player 1 is go first')\n",
    "    \n",
    "    # make the game run\n",
    "    \n",
    "    game_run = True\n",
    "    current_player = 1\n",
    "   \n",
    "    while game_run:\n",
    "    \n",
    "    # set role for player1\n",
    "        if current_player == 1:\n",
    "            draw_board(board)\n",
    "            place_1 = int(input('player 1, choose a place in number (1-9):'))\n",
    "            while board[place_1] != ' ':\n",
    "                place_1 = int(input('The place already taken, please choose another one: '))\n",
    "            board[place_1] = player1_letter\n",
    "            \n",
    "            if check_winner(board, player1_letter):\n",
    "                    draw_board(board)\n",
    "                    print('\\n *** Congratulation! player 1 is a winner! ***')\n",
    "                    game_run = False\n",
    "            else:\n",
    "                if ' ' not in board[1:]:\n",
    "                    draw_board(board)\n",
    "                    print(\"\\n *** It is a tie! ***\") # set the draw condition\n",
    "                    game_run = False\n",
    "                else:\n",
    "                    current_player = 2\n",
    "\n",
    "    # set role for player2\n",
    "        else:\n",
    "            if current_player == 2:\n",
    "                draw_board(board)\n",
    "                place_2 = int(input('player 2, choose a place in number (1-9):'))\n",
    "                while board[place_2] != ' ':\n",
    "                    place_2 = int(input('The place already taken, please choose another one'))\n",
    "                \n",
    "                board[place_2] = player2_letter\n",
    "                \n",
    "                if check_winner(board, player2_letter):\n",
    "                        draw_board(board)\n",
    "                        print('\\n *** Congratulation!, player 2 is a winner! ***')\n",
    "                        game_run = False\n",
    "                else:\n",
    "                        current_player = 1"
   ]
  },
  {
   "cell_type": "code",
   "execution_count": 4,
   "id": "c059bec6",
   "metadata": {},
   "outputs": [
    {
     "name": "stdout",
     "output_type": "stream",
     "text": [
      "Welcome to the game Tic Tac Toe!\n",
      "Player1, please choose x or o to start the game:x\n",
      "player 1 is go first\n",
      "   |   |\n",
      "   |   |  \n",
      "-----------\n",
      "   |   |\n",
      "   |   |  \n",
      "-----------\n",
      "   |   |\n",
      "   |   |  \n",
      "player 1, choose a place in number (1-9):1\n",
      "   |   |\n",
      " X |   |  \n",
      "-----------\n",
      "   |   |\n",
      "   |   |  \n",
      "-----------\n",
      "   |   |\n",
      "   |   |  \n",
      "player 2, choose a place in number (1-9):3\n",
      "   |   |\n",
      " X |   | O\n",
      "-----------\n",
      "   |   |\n",
      "   |   |  \n",
      "-----------\n",
      "   |   |\n",
      "   |   |  \n",
      "player 1, choose a place in number (1-9):2\n",
      "   |   |\n",
      " X | X | O\n",
      "-----------\n",
      "   |   |\n",
      "   |   |  \n",
      "-----------\n",
      "   |   |\n",
      "   |   |  \n",
      "player 2, choose a place in number (1-9):5\n",
      "   |   |\n",
      " X | X | O\n",
      "-----------\n",
      "   |   |\n",
      "   | O |  \n",
      "-----------\n",
      "   |   |\n",
      "   |   |  \n",
      "player 1, choose a place in number (1-9):4\n",
      "   |   |\n",
      " X | X | O\n",
      "-----------\n",
      "   |   |\n",
      " X | O |  \n",
      "-----------\n",
      "   |   |\n",
      "   |   |  \n",
      "player 2, choose a place in number (1-9):7\n",
      "   |   |\n",
      " X | X | O\n",
      "-----------\n",
      "   |   |\n",
      " X | O |  \n",
      "-----------\n",
      "   |   |\n",
      " O |   |  \n",
      "\n",
      " *** Congratulation!, player 2 is a winner! ***\n"
     ]
    }
   ],
   "source": [
    "main_game() # run the programe in main_game()"
   ]
  },
  {
   "cell_type": "markdown",
   "id": "3d5127cc",
   "metadata": {},
   "source": [
    "### Make an another match"
   ]
  },
  {
   "cell_type": "code",
   "execution_count": 2,
   "id": "94633da5",
   "metadata": {},
   "outputs": [
    {
     "name": "stdout",
     "output_type": "stream",
     "text": [
      "\n",
      "Do you like to continue or stop?(y,n):n\n",
      "*** GOOOD BYE ***\n"
     ]
    }
   ],
   "source": [
    "# create a new match\n",
    "Y = str()\n",
    "N = str()\n",
    "\n",
    "status = (Y or N)\n",
    "\n",
    "while not status == \"N\":\n",
    "    status = input(\"\\nDo you like to continue or stop?(y,n):\").upper()\n",
    "    if status == \"Y\":\n",
    "        main_game()\n",
    "    else:\n",
    "        print(\"*** GOOOD BYE ***\")\n",
    "        break\n",
    "        "
   ]
  },
  {
   "cell_type": "markdown",
   "id": "e13a7358",
   "metadata": {},
   "source": [
    "### "
   ]
  }
 ],
 "metadata": {
  "kernelspec": {
   "display_name": "Python 3 (ipykernel)",
   "language": "python",
   "name": "python3"
  },
  "language_info": {
   "codemirror_mode": {
    "name": "ipython",
    "version": 3
   },
   "file_extension": ".py",
   "mimetype": "text/x-python",
   "name": "python",
   "nbconvert_exporter": "python",
   "pygments_lexer": "ipython3",
   "version": "3.9.13"
  }
 },
 "nbformat": 4,
 "nbformat_minor": 5
}
